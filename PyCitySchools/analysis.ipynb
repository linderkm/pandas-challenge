{
 "cells": [
  {
   "cell_type": "markdown",
   "id": "036c6c6c",
   "metadata": {},
   "source": [
    "#PyCity School Analysis\n",
    " \n",
    " "
   ]
  },
  {
   "cell_type": "code",
   "execution_count": 7,
   "id": "a7e19dca",
   "metadata": {},
   "outputs": [],
   "source": [
    "#import dependencies (1)\n",
    "import pandas as pd\n",
    "from pathlib import Path"
   ]
  },
  {
   "cell_type": "code",
   "execution_count": 8,
   "id": "0fa4fc0f",
   "metadata": {},
   "outputs": [],
   "source": [
    "#creating initial dataframes, reading in and then converting csv data into a pandas df (1)\n",
    "schools_df = pd.read_csv(Path(\"Resources/schools_complete.csv\"))\n",
    "students_df = pd.read_csv(Path(\"Resources/students_complete.csv\"))\n",
    "#sorting schools_df by school name, alphabetically (6)(8). The index is reset.\n",
    "schools_df = schools_df.sort_values(by='school_name').reset_index()"
   ]
  },
  {
   "cell_type": "markdown",
   "id": "c4df8a70",
   "metadata": {},
   "source": [
    "# Districut Summary"
   ]
  },
  {
   "cell_type": "code",
   "execution_count": 9,
   "id": "cace81e6",
   "metadata": {},
   "outputs": [],
   "source": [
    "#calculate passing rates for math, reading and total. using 70/100 as benchmark for 'passing'. (2)\n",
    "\n",
    "math_passing = (students_df[\"math_score\"].loc[students_df[\"math_score\"]>=70].count() / students_df[\"math_score\"].count()) * 100\n",
    "\n",
    "reading_passing = (students_df[\"reading_score\"].loc[students_df[\"reading_score\"]>=70].count() / students_df[\"reading_score\"].count()) * 100\n",
    "\n",
    "#idenitying rows where reading score and math score are both >= 70, and calculating a percentage (3)\n",
    "total_passing = (((students_df[\"reading_score\"]>=70) & (students_df[\"math_score\"]>=70)).sum() / students_df[\"reading_score\"].count()) * 100\n"
   ]
  },
  {
   "cell_type": "code",
   "execution_count": 13,
   "id": "6ed0bdab",
   "metadata": {},
   "outputs": [],
   "source": [
    "#storing all target values and categories in a dictionary. (16)\n",
    "district_summary_data = {\n",
    "    \"Category\": [\"Total Schools\", \n",
    "                 \"Total Students\", \n",
    "                 \"Total Budget\",\n",
    "                 \"Average Math Score\",\n",
    "                 \"Average Reading Score\",\n",
    "                 \"Math Passing %\",\n",
    "                 \"Reading Passing %\",\n",
    "                 \"Total Passing %\"\n",
    "                ],\n",
    "    \"Value\": [schools_df[\"school_name\"].count(),\n",
    "              students_df[\"student_name\"].count(),\n",
    "              schools_df[\"budget\"].sum(),\n",
    "              round(students_df[\"math_score\"].mean(),2),\n",
    "              round(students_df[\"reading_score\"].mean(),2),\n",
    "              round(math_passing, 2),\n",
    "              round(reading_passing, 2),\n",
    "              round(total_passing, 2)\n",
    "            ]\n",
    "    }"
   ]
  },
  {
   "cell_type": "code",
   "execution_count": 33,
   "id": "d777badf",
   "metadata": {},
   "outputs": [
    {
     "data": {
      "text/html": [
       "<div>\n",
       "<style scoped>\n",
       "    .dataframe tbody tr th:only-of-type {\n",
       "        vertical-align: middle;\n",
       "    }\n",
       "\n",
       "    .dataframe tbody tr th {\n",
       "        vertical-align: top;\n",
       "    }\n",
       "\n",
       "    .dataframe thead th {\n",
       "        text-align: right;\n",
       "    }\n",
       "</style>\n",
       "<table border=\"1\" class=\"dataframe\">\n",
       "  <thead>\n",
       "    <tr style=\"text-align: right;\">\n",
       "      <th></th>\n",
       "      <th>Category</th>\n",
       "      <th>Value</th>\n",
       "    </tr>\n",
       "  </thead>\n",
       "  <tbody>\n",
       "    <tr>\n",
       "      <th>0</th>\n",
       "      <td>Total Schools</td>\n",
       "      <td>15</td>\n",
       "    </tr>\n",
       "    <tr>\n",
       "      <th>1</th>\n",
       "      <td>Total Students</td>\n",
       "      <td>39,170</td>\n",
       "    </tr>\n",
       "    <tr>\n",
       "      <th>2</th>\n",
       "      <td>Total Budget</td>\n",
       "      <td>$24,649,428.00</td>\n",
       "    </tr>\n",
       "    <tr>\n",
       "      <th>3</th>\n",
       "      <td>Average Math Score</td>\n",
       "      <td>78.99</td>\n",
       "    </tr>\n",
       "    <tr>\n",
       "      <th>4</th>\n",
       "      <td>Average Reading Score</td>\n",
       "      <td>81.88</td>\n",
       "    </tr>\n",
       "    <tr>\n",
       "      <th>5</th>\n",
       "      <td>Math Passing %</td>\n",
       "      <td>74.98</td>\n",
       "    </tr>\n",
       "    <tr>\n",
       "      <th>6</th>\n",
       "      <td>Reading Passing %</td>\n",
       "      <td>85.81</td>\n",
       "    </tr>\n",
       "    <tr>\n",
       "      <th>7</th>\n",
       "      <td>Total Passing %</td>\n",
       "      <td>65.17</td>\n",
       "    </tr>\n",
       "  </tbody>\n",
       "</table>\n",
       "</div>"
      ],
      "text/plain": [
       "                Category           Value\n",
       "0          Total Schools              15\n",
       "1         Total Students          39,170\n",
       "2           Total Budget  $24,649,428.00\n",
       "3     Average Math Score           78.99\n",
       "4  Average Reading Score           81.88\n",
       "5         Math Passing %           74.98\n",
       "6      Reading Passing %           85.81\n",
       "7        Total Passing %           65.17"
      ]
     },
     "execution_count": 33,
     "metadata": {},
     "output_type": "execute_result"
    }
   ],
   "source": [
    "#converting dictionary object into a dataframe. (4)\n",
    "district_summary = pd.DataFrame(district_summary_data)\n",
    "#setting the category values as index values (5)\n",
    "#district_summary = district_summary.set_index('Category', drop=True)\n",
    "\n",
    "# Formatting (17)\n",
    "district_summary.iloc[0,1] = \"{:,.0f}\".format(district_summary.iloc[0,1])\n",
    "district_summary.iloc[1,1] = \"{:,.0f}\".format(district_summary.iloc[1,1])\n",
    "district_summary.iloc[2,1] = \"${:,.2f}\".format(district_summary.iloc[2,1])\n",
    "\n",
    "district_summary.head(20)"
   ]
  },
  {
   "cell_type": "markdown",
   "id": "e57fc64a",
   "metadata": {},
   "source": [
    "# School Summary"
   ]
  },
  {
   "cell_type": "code",
   "execution_count": null,
   "id": "0d06730c",
   "metadata": {},
   "outputs": [],
   "source": [
    "#creating dataframes that contain average scores by school, using .groupby() and .mean() (6). \n",
    "# resetting the index of each dataframe with reset_index() (7), to match the formatting of schools_df.\n",
    "mathAVG = (pd.DataFrame(students_df.groupby([\"school_name\"]).mean()).reset_index())[[\"school_name\",\"math_score\"]]\n",
    "readAVG = (pd.DataFrame(students_df.groupby([\"school_name\"]).mean()).reset_index())[[\"school_name\",\"reading_score\"]]"
   ]
  },
  {
   "cell_type": "code",
   "execution_count": null,
   "id": "29142ef3",
   "metadata": {},
   "outputs": [],
   "source": [
    "#creating a dictionary of desired values to pass into pd.DataFrame\n",
    "school_summary_data = {\n",
    "    \"school_name\": schools_df[\"school_name\"],\n",
    "    \"School Type\": schools_df[\"type\"],\n",
    "    \"Student Count\": schools_df[\"size\"],\n",
    "    \"Total Budget ($)\": schools_df[\"budget\"],\n",
    "    \"Per-Student Budget ($)\": (schools_df[\"budget\"]/schools_df[\"size\"]),\n",
    "    \"Average Math Score\": mathAVG[\"math_score\"],\n",
    "    \"Average Reading Score\": readAVG[\"reading_score\"]  \n",
    "    }"
   ]
  },
  {
   "cell_type": "code",
   "execution_count": null,
   "id": "b6dffef2",
   "metadata": {},
   "outputs": [],
   "source": [
    "#creating the first iteration of the school summary dataframe\n",
    "school_summary_df = pd.DataFrame(school_summary_data)\n"
   ]
  },
  {
   "cell_type": "code",
   "execution_count": null,
   "id": "c0a58960",
   "metadata": {},
   "outputs": [],
   "source": [
    "#code block to determing the percentage of students passing math, by school\n",
    "#adding this data to school summary data.\n",
    "\n",
    "#find the number of students passing math\n",
    "passing_math = students_df.loc[(students_df['math_score']>=70)]\n",
    "#grouping loc output and creating a new dataframe. counting the size of each group with size() (11).\n",
    "passing_math = pd.DataFrame(passing_math.groupby(\"school_name\").size()).reset_index()\n",
    "#rename columns (9)\n",
    "passing_math = passing_math.rename(columns = {0:\"Number of Students Passing Math\"})\n",
    "\n",
    "#find the total number of students per school, creating new dataframe\n",
    "school_pop = pd.DataFrame(students_df.groupby(\"school_name\").size()).reset_index()\n",
    "school_pop = school_pop.rename(columns = {0:\"Total Students\"})\n",
    "\n",
    "#merging two dataframe on shared series 'school_name' (10)\n",
    "math_merge = pd.merge(passing_math,school_pop, on=\"school_name\")\n",
    "#creating a new series\n",
    "math_merge[\"Passing Math %\"] = (math_merge[\"Number of Students Passing Math\"] / \\\n",
    "                                math_merge[\"Total Students\"]) * 100\n",
    "#simplifying dataframe to target columns\n",
    "math_merge = math_merge[[\"school_name\", \"Passing Math %\"]]\n",
    "\n",
    "\n",
    "#merging math data into summary dataframe\n",
    "school_summary_df1 = pd.merge(school_summary_df, math_merge, on=\"school_name\")\n"
   ]
  },
  {
   "cell_type": "code",
   "execution_count": null,
   "id": "d6e8b9a9",
   "metadata": {},
   "outputs": [],
   "source": [
    "#code block to determing the percentage of students passing reading, by school. this code mimics the math block above.\n",
    "#adding this data to school summary data.\n",
    "\n",
    "#find the number of students passing reading\n",
    "passing_read = students_df.loc[(students_df['reading_score']>=70)]\n",
    "#grouping loc output and creating a new dataframe. counting the size of each group with size() (11).\n",
    "passing_read = pd.DataFrame(passing_read.groupby(\"school_name\").size()).reset_index()\n",
    "passing_read = passing_read.rename(columns = {0:\"Number of Students Passing Reading\"}) #(9)\n",
    "\n",
    "#merging two dataframe on shared series 'school_name' (10)\n",
    "#using school_pop dataframe calculated in cell above, which containts total population per school\n",
    "read_merge = pd.merge(passing_read,school_pop, on=\"school_name\")\n",
    "#creating a new series\n",
    "read_merge[\"Passing Reading %\"] = (read_merge[\"Number of Students Passing Reading\"] / \\\n",
    "                                read_merge[\"Total Students\"]) * 100\n",
    "#simplifying dataframe to target columns\n",
    "read_merge = read_merge[[\"school_name\", \"Passing Reading %\"]]\n",
    "\n",
    "\n",
    "#merging math data into summary dataframe\n",
    "school_summary_df2 = pd.merge(school_summary_df1, read_merge, on=\"school_name\")\n"
   ]
  },
  {
   "cell_type": "code",
   "execution_count": null,
   "id": "734a8c1c",
   "metadata": {},
   "outputs": [],
   "source": [
    "#code block to determing the percentage of students passing reading AND math, by school. this code mimics the math block above.\n",
    "#adding this data to school summary data.\n",
    "\n",
    "#find the number of students passing reading AND passing math\n",
    "passing_total = students_df.loc[((students_df['reading_score']>=70) & (students_df['math_score']>=70)),:]\n",
    "#grouping loc output and creating a new dataframe. counting the size of each group with size() (11).\n",
    "passing_total = pd.DataFrame(passing_total.groupby(\"school_name\").size()).reset_index()\n",
    "passing_total = passing_total.rename(columns = {0:\"Number of Students Passing\"}) #(9)\n",
    "\n",
    "#merging two dataframe on shared series 'school_name' (10)\n",
    "#using school_pop dataframe calculated in cell above, which containts total population per school\n",
    "total_merge = pd.merge(passing_total,school_pop, on=\"school_name\")\n",
    "total_merge.head(20)\n",
    "\n",
    "\n",
    "#creating a new series\n",
    "total_merge[\"Total Passing %\"] = (total_merge[\"Number of Students Passing\"] / \\\n",
    "                                total_merge[\"Total Students\"]) * 100\n",
    "#simplifying dataframe to target columns\n",
    "total_merge = total_merge[[\"school_name\", \"Total Passing %\"]]\n",
    "\n",
    "\n",
    "#merging math data into summary dataframe\n",
    "school_summary_df3 = pd.merge(school_summary_df2, total_merge, on=\"school_name\")\n",
    "\n"
   ]
  },
  {
   "cell_type": "code",
   "execution_count": null,
   "id": "be23cae3",
   "metadata": {},
   "outputs": [],
   "source": [
    "#cleaning and formatting the school summary dataframe\n",
    "#creating final dataframe\n",
    "per_school_summary = school_summary_df3[[\"school_name\", \"School Type\", \"Student Count\", \n",
    "                                            \"Total Budget ($)\",\"Per-Student Budget ($)\", \n",
    "                                           \"Average Math Score\", \"Average Reading Score\",\n",
    "                                           \"Passing Math %\",\"Passing Reading %\", \"Total Passing %\"]]\n",
    "#modifying column names\n",
    "per_school_summary = per_school_summary.rename(columns={\"school_name\": \"School Name\",\n",
    "                                                           \"Passing Math %\": \"Passing Math (%)\",\n",
    "                                                           \"Passing Reading %\": \"Passing Reading (%)\",\n",
    "                                                           \"Total Passing %\": \"Total Passing (%)\"})\n",
    "\n",
    "\"\"\"Formatting block that was written, but not needed. left in comment format to save and show work.\n",
    "#updating index to be School Name values\n",
    "school_summary_final= school_summary_final.set_index(\"School Name\")\n",
    "\n",
    "#using mapping to udpate the formatting of series in dataframe (12)\n",
    "school_summary_final[\"Student Count\"] = school_summary_final[\"Student Count\"].map(\"{:,.0f}\".format)\n",
    "school_summary_final[\"Total Budget ($)\"] = school_summary_final[\"Total Budget ($)\"].map(\"${:,.0f}\".format)\n",
    "school_summary_final[\"Per-Student Budget ($)\"] = school_summary_final[\"Per-Student Budget ($)\"].map(\"${:,.0f}\".format)\n",
    "school_summary_final[\"Average Math Score\"] = school_summary_final[\"Average Math Score\"].map(\"{:.1f}\".format)\n",
    "school_summary_final[\"Average Reading Score\"] = school_summary_final[\"Average Reading Score\"].map(\"{:.1f}\".format)\n",
    "school_summary_final[\"Passing Math (%)\"] = school_summary_final[\"Passing Math (%)\"].map(\"{:.2f}%\".format)\n",
    "school_summary_final[\"Passing Reading (%)\"] = school_summary_final[\"Passing Reading (%)\"].map(\"{:.2f}%\".format)\n",
    "school_summary_final[\"Total Passing (%)\"] = school_summary_final[\"Total Passing (%)\"].map(\"{:.2f}%\".format)\n",
    "\"\"\"\n",
    "\n",
    "#creating a copy of the final summary, to modify later for additional analysis (14)\n",
    "school_summary_final_copy = per_school_summary.copy()\n",
    "per_school_summary.head(15)"
   ]
  },
  {
   "cell_type": "markdown",
   "id": "4e4ce22a",
   "metadata": {},
   "source": [
    "## Highest-Performing Schools by Percentage of Overall Passing"
   ]
  },
  {
   "cell_type": "code",
   "execution_count": null,
   "id": "bd870ecb",
   "metadata": {},
   "outputs": [],
   "source": [
    "#organizing the summary data frame by 'total passing (%)', in descending order.\n",
    "top_schools = school_summary_final_copy.sort_values(by=\"Total Passing (%)\",ascending=False)\n",
    "top_schools.head(5)"
   ]
  },
  {
   "cell_type": "markdown",
   "id": "11c31505",
   "metadata": {},
   "source": [
    "## Lowest-Performing Schools by Percentage of Overall Passing"
   ]
  },
  {
   "cell_type": "code",
   "execution_count": null,
   "id": "4efc2df3",
   "metadata": {},
   "outputs": [],
   "source": [
    "#organizing the summary data frame by 'total passing (%)', in ascending order.\n",
    "bottom_schools = school_summary_final_copy.sort_values(by=\"Total Passing (%)\",ascending=True)\n",
    "bottom_schools.head(5)"
   ]
  },
  {
   "cell_type": "markdown",
   "id": "4c39a51b",
   "metadata": {},
   "source": [
    "## Math Scores by Grade"
   ]
  },
  {
   "cell_type": "code",
   "execution_count": null,
   "id": "3066665a",
   "metadata": {},
   "outputs": [],
   "source": [
    "#average math scores, per grade level\n",
    "#grouping the \"grade\" and \"math_score\" series, and calculating the mean of each group.\n",
    "\n",
    "math_by_grade = students_df[[\"grade\", \"math_score\"]].groupby(\"grade\").mean()\n",
    "math_by_grade = math_by_grade.reset_index()\n",
    "math_by_grade = math_by_grade.sort_values(by=\"grade\",ascending=True)\n",
    "math_by_grade = math_by_grade.rename(columns={\"grade\":\"Grade\",\"math_score\": \"Math Score\"})\n",
    "math_scores_by_grade = math_by_grade.set_index('Grade')\n",
    "\n",
    "math_scores_by_grade\n"
   ]
  },
  {
   "cell_type": "markdown",
   "id": "b031ca01",
   "metadata": {},
   "source": [
    "## Reading Scores by Grade"
   ]
  },
  {
   "cell_type": "code",
   "execution_count": null,
   "id": "099b47d0",
   "metadata": {},
   "outputs": [],
   "source": [
    "#average reading scores, per grade level\n",
    "#grouping the \"grade\" and \"reading_score\" series, and calculating the mean of each group.\n",
    "read_by_grade = students_df[[\"grade\", \"reading_score\"]].groupby(\"grade\").mean()\n",
    "read_by_grade = read_by_grade.reset_index()\n",
    "read_by_grade = read_by_grade.sort_values(by=\"grade\",ascending=True)\n",
    "read_by_grade = read_by_grade.rename(columns={\"grade\":\"Grade\", \"reading_score\":\"Reading Score\"})\n",
    "reading_scores_by_grade = read_by_grade.set_index('Grade')\n",
    "\n",
    "reading_scores_by_grade"
   ]
  },
  {
   "cell_type": "markdown",
   "id": "80fbe7bd",
   "metadata": {},
   "source": [
    "## Scores by School Spending"
   ]
  },
  {
   "cell_type": "code",
   "execution_count": null,
   "id": "8e70831f",
   "metadata": {},
   "outputs": [],
   "source": [
    "#Scores by school spending (per student)\n",
    "\n",
    "#creating bins and lables. code provided in challenge documentation\n",
    "spending_bins = [0, 585, 630, 645, 680]\n",
    "labels = [\"<$585\", \"$585-630\", \"$630-645\", \"$645-680\"]\n",
    "\n",
    "#adding a new column to the overall summary dataframe, populating with bins (13)\n",
    "school_summary_final_copy[\"Spending Ranges (Per Student)\"] = pd.cut(school_summary_final_copy[\"Per-Student Budget ($)\"],\n",
    "                                             bins=spending_bins,labels=labels,include_lowest=True)\n",
    "\n",
    "#calculating the mean of each group. code provided in challenge documentation\n",
    "spending_math_scores = school_summary_final_copy.groupby([\"Spending Ranges (Per Student)\"])[\"Average Math Score\"].mean()\n",
    "spending_reading_scores = school_summary_final_copy.groupby([\"Spending Ranges (Per Student)\"])[\"Average Reading Score\"].mean()\n",
    "spending_passing_math = school_summary_final_copy.groupby([\"Spending Ranges (Per Student)\"])[\"Passing Math (%)\"].mean()\n",
    "spending_passing_reading = school_summary_final_copy.groupby([\"Spending Ranges (Per Student)\"])[\"Passing Reading (%)\"].mean()\n",
    "overall_passing_spending = school_summary_final_copy.groupby([\"Spending Ranges (Per Student)\"])[\"Total Passing (%)\"].mean()\n",
    "\n",
    "\n",
    "#merging data into single dataframe\n",
    "spending_summary = pd.merge(spending_math_scores, spending_reading_scores,\n",
    "                            on=\"Spending Ranges (Per Student)\")\n",
    "\n",
    "spending_summary = pd.merge(spending_summary, spending_passing_math, \n",
    "                            on=\"Spending Ranges (Per Student)\")\n",
    "\n",
    "spending_summary = pd.merge(spending_summary, spending_passing_reading, \n",
    "                            on=\"Spending Ranges (Per Student)\")\n",
    "\n",
    "spending_summary = pd.merge(spending_summary, overall_passing_spending, \n",
    "                            on=\"Spending Ranges (Per Student)\")\n",
    "\n",
    "spending_summary"
   ]
  },
  {
   "cell_type": "markdown",
   "id": "6102711c",
   "metadata": {},
   "source": [
    "## Scores by School Size"
   ]
  },
  {
   "cell_type": "code",
   "execution_count": null,
   "id": "d68ef32c",
   "metadata": {},
   "outputs": [],
   "source": [
    "#Scores by School Size\n",
    "#creating bins and lables. code provided in challenge documentation\n",
    "size_bins = [0, 1000, 2000, 5000]\n",
    "labels = [\"Small (<1000)\", \"Medium (1000-2000)\", \"Large (2000-5000)\"]\n",
    "\n",
    "#adding a new column to the overall summary dataframe, populating with bins (13)\n",
    "school_summary_final_copy[\"School Size\"] = pd.cut(school_summary_final_copy[\"Student Count\"],\n",
    "                                             bins=size_bins,labels=labels,include_lowest=True)\n",
    "\n",
    "#calculating the mean of each group. code provided in challenge documentation\n",
    "size_math_scores = school_summary_final_copy.groupby([\"School Size\"])[\"Average Math Score\"].mean()\n",
    "size_reading_scores = school_summary_final_copy.groupby([\"School Size\"])[\"Average Reading Score\"].mean()\n",
    "size_passing_math = school_summary_final_copy.groupby([\"School Size\"])[\"Passing Math (%)\"].mean()\n",
    "size_passing_reading = school_summary_final_copy.groupby([\"School Size\"])[\"Passing Reading (%)\"].mean()\n",
    "overall_passing_size = school_summary_final_copy.groupby([\"School Size\"])[\"Total Passing (%)\"].mean()\n",
    "\n",
    "#merging data into single dataframe\n",
    "size_summary = pd.merge(size_math_scores, size_reading_scores,\n",
    "                            on=\"School Size\")\n",
    "\n",
    "size_summary = pd.merge(size_summary, size_passing_math, \n",
    "                            on=\"School Size\")\n",
    "\n",
    "size_summary = pd.merge(size_summary, size_passing_reading, \n",
    "                            on=\"School Size\")\n",
    "\n",
    "size_summary = pd.merge(size_summary, overall_passing_size, \n",
    "                            on=\"School Size\")\n",
    "\n",
    "\n",
    "size_summary"
   ]
  },
  {
   "cell_type": "markdown",
   "id": "ba5744d7",
   "metadata": {},
   "source": [
    "## Scores by School Type"
   ]
  },
  {
   "cell_type": "code",
   "execution_count": null,
   "id": "280ac618",
   "metadata": {},
   "outputs": [],
   "source": [
    "#code block structure taken from module challenge documentation/ starter-code, per instructions\n",
    "# Group the per_school_summary DataFrame by \"School Type\" and average the results.\n",
    "average_math_score_by_type = per_school_summary.groupby([\"School Type\"])[\"Average Math Score\"].mean()\n",
    "average_reading_score_by_type = per_school_summary.groupby([\"School Type\"])[\"Average Reading Score\"].mean()\n",
    "average_percent_passing_math_by_type = per_school_summary.groupby([\"School Type\"])[\"Passing Math (%)\"].mean()\n",
    "average_percent_passing_reading_by_type = per_school_summary.groupby([\"School Type\"])[\"Passing Reading (%)\"].mean()\n",
    "average_percent_overall_passing_by_type = per_school_summary.groupby([\"School Type\"])[\"Total Passing (%)\"].mean()\n",
    "\n",
    "\n",
    "# combine groupby objects into a single DataFrame called `type_summary` (15)\n",
    "type_summary = pd.DataFrame(pd.concat([average_math_score_by_type,average_reading_score_by_type,\n",
    "                         average_percent_passing_math_by_type, average_percent_passing_reading_by_type,\n",
    "                         average_percent_overall_passing_by_type], axis=1))\n",
    "\n",
    "type_summary\n"
   ]
  },
  {
   "cell_type": "code",
   "execution_count": null,
   "id": "ae4de70d",
   "metadata": {},
   "outputs": [],
   "source": []
  }
 ],
 "metadata": {
  "kernelspec": {
   "display_name": "Python 3",
   "language": "python",
   "name": "python3"
  },
  "language_info": {
   "codemirror_mode": {
    "name": "ipython",
    "version": 3
   },
   "file_extension": ".py",
   "mimetype": "text/x-python",
   "name": "python",
   "nbconvert_exporter": "python",
   "pygments_lexer": "ipython3",
   "version": "3.8.8"
  }
 },
 "nbformat": 4,
 "nbformat_minor": 5
}
