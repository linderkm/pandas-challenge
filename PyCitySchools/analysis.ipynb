{
 "cells": [
  {
   "cell_type": "code",
   "execution_count": 2,
   "id": "a7e19dca",
   "metadata": {},
   "outputs": [],
   "source": [
    "#import dependencies (1)\n",
    "import pandas as pd\n",
    "from pathlib import Path"
   ]
  },
  {
   "cell_type": "code",
   "execution_count": 3,
   "id": "0fa4fc0f",
   "metadata": {},
   "outputs": [],
   "source": [
    "#creating initial dataframes, reading in and then converting csv data into a pandas df (1)\n",
    "schools_df = pd.read_csv(Path(\"Resources/schools_complete.csv\"))\n",
    "students_df = pd.read_csv(Path(\"Resources/students_complete.csv\"))\n",
    "#sorting schools_df by school name, alphabetically (6)(8). The index is reset.\n",
    "schools_df = schools_df.sort_values(by='school_name').reset_index()"
   ]
  },
  {
   "cell_type": "code",
   "execution_count": 4,
   "id": "cace81e6",
   "metadata": {},
   "outputs": [],
   "source": [
    "#calculate passing rates for math, reading and total. using 60/100 as benchmark for 'passing'. (2)\n",
    "\n",
    "math_passing = (students_df[\"math_score\"].loc[students_df[\"math_score\"]>60].count() / students_df[\"math_score\"].count()) * 100\n",
    "\n",
    "reading_passing = (students_df[\"reading_score\"].loc[students_df[\"reading_score\"]>60].count() / students_df[\"reading_score\"].count()) * 100\n",
    "\n",
    "#idenitying rows where reading score and math score are both > 60, and calculating a percentage (3)\n",
    "total_passing = (((students_df[\"reading_score\"]>60) & (students_df[\"math_score\"]>60)).sum() / students_df[\"reading_score\"].count()) * 100\n",
    "\n"
   ]
  },
  {
   "cell_type": "code",
   "execution_count": 5,
   "id": "6ed0bdab",
   "metadata": {},
   "outputs": [],
   "source": [
    "#storing all target values and categories in a dictionary.\n",
    "district_summary_data = {\n",
    "    \"Category\": [\"Total Schools\", \n",
    "                 \"Total Students\", \n",
    "                 \"Total Budget ($)\",\n",
    "                 \"Average Math Score\",\n",
    "                 \"Average Reading Score\",\n",
    "                 \"Math Passing %\",\n",
    "                 \"Reading Passing %\",\n",
    "                 \"Total Passing %\"\n",
    "                ],\n",
    "    \"Value\": [schools_df[\"school_name\"].count(),\n",
    "              students_df[\"student_name\"].count(),\n",
    "              schools_df[\"budget\"].sum(),\n",
    "              round(students_df[\"math_score\"].mean(),2),\n",
    "              round(students_df[\"reading_score\"].mean(),2),\n",
    "              round(math_passing, 2),\n",
    "              round(reading_passing, 2),\n",
    "              round(total_passing, 2)\n",
    "            ]\n",
    "    }"
   ]
  },
  {
   "cell_type": "code",
   "execution_count": 6,
   "id": "d777badf",
   "metadata": {},
   "outputs": [
    {
     "name": "stdout",
     "output_type": "stream",
     "text": [
      "Distric Summary: \n"
     ]
    },
    {
     "data": {
      "text/html": [
       "<div>\n",
       "<style scoped>\n",
       "    .dataframe tbody tr th:only-of-type {\n",
       "        vertical-align: middle;\n",
       "    }\n",
       "\n",
       "    .dataframe tbody tr th {\n",
       "        vertical-align: top;\n",
       "    }\n",
       "\n",
       "    .dataframe thead th {\n",
       "        text-align: right;\n",
       "    }\n",
       "</style>\n",
       "<table border=\"1\" class=\"dataframe\">\n",
       "  <thead>\n",
       "    <tr style=\"text-align: right;\">\n",
       "      <th></th>\n",
       "      <th>Value</th>\n",
       "    </tr>\n",
       "    <tr>\n",
       "      <th>Category</th>\n",
       "      <th></th>\n",
       "    </tr>\n",
       "  </thead>\n",
       "  <tbody>\n",
       "    <tr>\n",
       "      <th>Total Schools</th>\n",
       "      <td>15.00</td>\n",
       "    </tr>\n",
       "    <tr>\n",
       "      <th>Total Students</th>\n",
       "      <td>39170.00</td>\n",
       "    </tr>\n",
       "    <tr>\n",
       "      <th>Total Budget ($)</th>\n",
       "      <td>24649428.00</td>\n",
       "    </tr>\n",
       "    <tr>\n",
       "      <th>Average Math Score</th>\n",
       "      <td>78.99</td>\n",
       "    </tr>\n",
       "    <tr>\n",
       "      <th>Average Reading Score</th>\n",
       "      <td>81.88</td>\n",
       "    </tr>\n",
       "    <tr>\n",
       "      <th>Math Passing %</th>\n",
       "      <td>90.91</td>\n",
       "    </tr>\n",
       "    <tr>\n",
       "      <th>Reading Passing %</th>\n",
       "      <td>100.00</td>\n",
       "    </tr>\n",
       "    <tr>\n",
       "      <th>Total Passing %</th>\n",
       "      <td>90.91</td>\n",
       "    </tr>\n",
       "  </tbody>\n",
       "</table>\n",
       "</div>"
      ],
      "text/plain": [
       "                             Value\n",
       "Category                          \n",
       "Total Schools                15.00\n",
       "Total Students            39170.00\n",
       "Total Budget ($)       24649428.00\n",
       "Average Math Score           78.99\n",
       "Average Reading Score        81.88\n",
       "Math Passing %               90.91\n",
       "Reading Passing %           100.00\n",
       "Total Passing %              90.91"
      ]
     },
     "execution_count": 6,
     "metadata": {},
     "output_type": "execute_result"
    }
   ],
   "source": [
    "#converting dictionary object into a dataframe. (4)\n",
    "district_summary_df = pd.DataFrame(district_summary_data)\n",
    "#setting the category values as index values (5)\n",
    "district_summary_df = district_summary_df.set_index('Category', drop=True)\n",
    "print(\"Distric Summary: \")\n",
    "district_summary_df.head(20)"
   ]
  },
  {
   "cell_type": "code",
   "execution_count": 7,
   "id": "0d06730c",
   "metadata": {},
   "outputs": [],
   "source": [
    "#creating dataframes that contain average scores by school, using .groupby() and .mean() (6). \n",
    "# resetting the index of each dataframe with reset_index() (7), to match the formatting of schools_df.\n",
    "mathAVG = (pd.DataFrame(students_df.groupby([\"school_name\"]).mean()).reset_index())[[\"school_name\",\"math_score\"]]\n",
    "readAVG = (pd.DataFrame(students_df.groupby([\"school_name\"]).mean()).reset_index())[[\"school_name\",\"reading_score\"]]"
   ]
  },
  {
   "cell_type": "code",
   "execution_count": 8,
   "id": "29142ef3",
   "metadata": {},
   "outputs": [],
   "source": [
    "#creating a dictionary of desired values to pass into pd.DataFrame\n",
    "school_summary_data = {\n",
    "    \"school_name\": schools_df[\"school_name\"],\n",
    "    \"School Type\": schools_df[\"type\"],\n",
    "    \"Student Count\": schools_df[\"size\"],\n",
    "    \"Total Budget ($)\": schools_df[\"budget\"],\n",
    "    \"Per-Student Budget ($)\": (schools_df[\"budget\"]/schools_df[\"size\"]),\n",
    "    \"Average Math Score\": mathAVG[\"math_score\"],\n",
    "    \"Average Reading Score\": readAVG[\"reading_score\"]  \n",
    "    }"
   ]
  },
  {
   "cell_type": "code",
   "execution_count": 9,
   "id": "b6dffef2",
   "metadata": {},
   "outputs": [],
   "source": [
    "#creating the first iteration of the school summary dataframe\n",
    "school_summary_df = pd.DataFrame(school_summary_data)\n"
   ]
  },
  {
   "cell_type": "code",
   "execution_count": 10,
   "id": "c0a58960",
   "metadata": {},
   "outputs": [],
   "source": [
    "#code block to determing the percentage of students passing math, by school\n",
    "#adding this data to school summary data.\n",
    "\n",
    "#find the number of students passing math\n",
    "passing_math = students_df.loc[(students_df['math_score']>60)]\n",
    "#grouping loc output and creating a new dataframe. counting the size of each group with size() (11).\n",
    "passing_math = pd.DataFrame(passing_math.groupby(\"school_name\").size()).reset_index()\n",
    "#rename columns (9)\n",
    "passing_math = passing_math.rename(columns = {0:\"Number of Students Passing Math\"})\n",
    "\n",
    "#find the total number of students per school, creating new dataframe\n",
    "school_pop = pd.DataFrame(students_df.groupby(\"school_name\").size()).reset_index()\n",
    "school_pop = school_pop.rename(columns = {0:\"Total Students\"})\n",
    "\n",
    "#merging two dataframe on shared series 'school_name' (10)\n",
    "math_merge = pd.merge(passing_math,school_pop, on=\"school_name\")\n",
    "#creating a new series\n",
    "math_merge[\"Passing Math %\"] = (math_merge[\"Number of Students Passing Math\"] / \\\n",
    "                                math_merge[\"Total Students\"]) * 100\n",
    "#simplifying dataframe to target columns\n",
    "math_merge = math_merge[[\"school_name\", \"Passing Math %\"]]\n",
    "\n",
    "\n",
    "#merging math data into summary dataframe\n",
    "school_summary_df1 = pd.merge(school_summary_df, math_merge, on=\"school_name\")\n"
   ]
  },
  {
   "cell_type": "code",
   "execution_count": 11,
   "id": "d6e8b9a9",
   "metadata": {},
   "outputs": [],
   "source": [
    "#code block to determing the percentage of students passing reading, by school. this code mimics the math block above.\n",
    "#adding this data to school summary data.\n",
    "\n",
    "#find the number of students passing reading\n",
    "passing_read = students_df.loc[(students_df['reading_score']>60)]\n",
    "#grouping loc output and creating a new dataframe. counting the size of each group with size() (11).\n",
    "passing_read = pd.DataFrame(passing_read.groupby(\"school_name\").size()).reset_index()\n",
    "passing_read = passing_read.rename(columns = {0:\"Number of Students Passing Reading\"}) #(9)\n",
    "\n",
    "#merging two dataframe on shared series 'school_name' (10)\n",
    "#using school_pop dataframe calculated earlier, which containts total population per school\n",
    "read_merge = pd.merge(passing_read,school_pop, on=\"school_name\")\n",
    "#creating a new series\n",
    "read_merge[\"Passing Reading %\"] = (read_merge[\"Number of Students Passing Reading\"] / \\\n",
    "                                read_merge[\"Total Students\"]) * 100\n",
    "#simplifying dataframe to target columns\n",
    "read_merge = read_merge[[\"school_name\", \"Passing Reading %\"]]\n",
    "\n",
    "\n",
    "#merging math data into summary dataframe\n",
    "school_summary_df2 = pd.merge(school_summary_df1, read_merge, on=\"school_name\")\n"
   ]
  },
  {
   "cell_type": "code",
   "execution_count": 12,
   "id": "734a8c1c",
   "metadata": {},
   "outputs": [],
   "source": [
    "#code block to determing the percentage of students passing reading AND math, by school. this code mimics the math block above.\n",
    "#adding this data to school summary data.\n",
    "\n",
    "#find the number of students passing reading AND passing math\n",
    "passing_total = students_df.loc[((students_df['reading_score']>60) & (students_df['math_score']>60)),:]\n",
    "#grouping loc output and creating a new dataframe. counting the size of each group with size() (11).\n",
    "passing_total = pd.DataFrame(passing_total.groupby(\"school_name\").size()).reset_index()\n",
    "passing_total = passing_total.rename(columns = {0:\"Number of Students Passing\"}) #(9)\n",
    "\n",
    "#merging two dataframe on shared series 'school_name' (10)\n",
    "#using school_pop dataframe calculated earlier, which containts total population per school\n",
    "total_merge = pd.merge(passing_total,school_pop, on=\"school_name\")\n",
    "total_merge.head(20)\n",
    "\n",
    "\n",
    "#creating a new series\n",
    "total_merge[\"Total Passing %\"] = (total_merge[\"Number of Students Passing\"] / \\\n",
    "                                total_merge[\"Total Students\"]) * 100\n",
    "#simplifying dataframe to target columns\n",
    "total_merge = total_merge[[\"school_name\", \"Total Passing %\"]]\n",
    "\n",
    "\n",
    "#merging math data into summary dataframe\n",
    "school_summary_df3 = pd.merge(school_summary_df2, total_merge, on=\"school_name\")\n",
    "\n"
   ]
  },
  {
   "cell_type": "code",
   "execution_count": 13,
   "id": "be23cae3",
   "metadata": {},
   "outputs": [],
   "source": [
    "#cleaning and formatting the school summary dataframe\n"
   ]
  }
 ],
 "metadata": {
  "kernelspec": {
   "display_name": "Python 3",
   "language": "python",
   "name": "python3"
  },
  "language_info": {
   "codemirror_mode": {
    "name": "ipython",
    "version": 3
   },
   "file_extension": ".py",
   "mimetype": "text/x-python",
   "name": "python",
   "nbconvert_exporter": "python",
   "pygments_lexer": "ipython3",
   "version": "3.8.8"
  }
 },
 "nbformat": 4,
 "nbformat_minor": 5
}
